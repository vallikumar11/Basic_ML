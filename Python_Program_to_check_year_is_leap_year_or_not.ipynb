{
  "nbformat": 4,
  "nbformat_minor": 0,
  "metadata": {
    "colab": {
      "name": "Python Program to check year is leap year or not",
      "provenance": [],
      "authorship_tag": "ABX9TyMB79XwwmMbYN7hD9GxDbhu",
      "include_colab_link": true
    },
    "kernelspec": {
      "name": "python3",
      "display_name": "Python 3"
    },
    "language_info": {
      "name": "python"
    }
  },
  "cells": [
    {
      "cell_type": "markdown",
      "metadata": {
        "id": "view-in-github",
        "colab_type": "text"
      },
      "source": [
        "<a href=\"https://colab.research.google.com/github/vallikumar11/Basic_ML/blob/main/Python_Program_to_check_year_is_leap_year_or_not.ipynb\" target=\"_parent\"><img src=\"https://colab.research.google.com/assets/colab-badge.svg\" alt=\"Open In Colab\"/></a>"
      ]
    },
    {
      "cell_type": "markdown",
      "metadata": {
        "id": "7xcw2U54B1UQ"
      },
      "source": [
        "#Enter any year as input\n",
        "#A leap year is exactly divisible by 4 except for century years (years ending with 00).\n",
        "#The century year is a leap year only if it is perfectly divisible by 400. \n",
        "\n"
      ]
    },
    {
      "cell_type": "code",
      "metadata": {
        "colab": {
          "base_uri": "https://localhost:8080/"
        },
        "id": "UdRL_4SsBSyd",
        "outputId": "dfb6800a-12a4-41e1-9305-416ddec2866e"
      },
      "source": [
        "year = int(input())\n",
        "if (year % 4) == 0:\n",
        "   if (year % 100) == 0:\n",
        "       if (year % 400) == 0:\n",
        "           print(\"{0} is a leap year\".format(year))\n",
        "       else:\n",
        "           print(\"{0} is not a leap year\".format(year))\n",
        "   else:\n",
        "       print(\"{0} is a leap year\".format(year))\n",
        "else:\n",
        "   print(\"{0} is not a leap year\".format(year))\n"
      ],
      "execution_count": null,
      "outputs": [
        {
          "output_type": "stream",
          "text": [
            "2222\n",
            "2222 is not a leap year\n"
          ],
          "name": "stdout"
        }
      ]
    }
  ]
}