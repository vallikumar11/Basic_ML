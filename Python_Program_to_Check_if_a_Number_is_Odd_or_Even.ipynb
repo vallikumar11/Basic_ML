{
  "nbformat": 4,
  "nbformat_minor": 0,
  "metadata": {
    "colab": {
      "name": "Python Program to Check if a Number is Odd or Even",
      "provenance": [],
      "authorship_tag": "ABX9TyNbtDEyWAJLWa2rya5q4tBX",
      "include_colab_link": true
    },
    "kernelspec": {
      "name": "python3",
      "display_name": "Python 3"
    },
    "language_info": {
      "name": "python"
    }
  },
  "cells": [
    {
      "cell_type": "markdown",
      "metadata": {
        "id": "view-in-github",
        "colab_type": "text"
      },
      "source": [
        "<a href=\"https://colab.research.google.com/github/vallikumar11/Basic_ML/blob/main/Python_Program_to_Check_if_a_Number_is_Odd_or_Even.ipynb\" target=\"_parent\"><img src=\"https://colab.research.google.com/assets/colab-badge.svg\" alt=\"Open In Colab\"/></a>"
      ]
    },
    {
      "cell_type": "markdown",
      "metadata": {
        "id": "5YR4eb-aAVpR"
      },
      "source": [
        "# Enter a positive number as input.\n",
        "#If the number is divided by 2 it is positive.\n",
        "#Else it is negative."
      ]
    },
    {
      "cell_type": "code",
      "metadata": {
        "colab": {
          "base_uri": "https://localhost:8080/"
        },
        "id": "5Rdbsmy5AIeB",
        "outputId": "53e8dd27-2766-4476-fb45-2c9f5a2e66d2"
      },
      "source": [
        "num = int(input(\"Enter a number: \"))\n",
        "if (num % 2) == 0:\n",
        "   print(\"{0} is Even\".format(num))\n",
        "else:\n",
        "   print(\"{0} is Odd\".format(num))"
      ],
      "execution_count": null,
      "outputs": [
        {
          "output_type": "stream",
          "text": [
            "Enter a number: 567\n",
            "567 is Odd\n"
          ],
          "name": "stdout"
        }
      ]
    }
  ]
}