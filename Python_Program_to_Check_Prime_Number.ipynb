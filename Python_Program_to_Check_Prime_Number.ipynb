{
  "nbformat": 4,
  "nbformat_minor": 0,
  "metadata": {
    "colab": {
      "name": "Python Program to Check Prime Number",
      "provenance": [],
      "collapsed_sections": [],
      "toc_visible": true,
      "authorship_tag": "ABX9TyMNzm9QZUtMyQQM6ZB/MiTu",
      "include_colab_link": true
    },
    "kernelspec": {
      "name": "python3",
      "display_name": "Python 3"
    },
    "language_info": {
      "name": "python"
    }
  },
  "cells": [
    {
      "cell_type": "markdown",
      "metadata": {
        "id": "view-in-github",
        "colab_type": "text"
      },
      "source": [
        "<a href=\"https://colab.research.google.com/github/vallikumar11/Basic_ML/blob/main/Python_Program_to_Check_Prime_Number.ipynb\" target=\"_parent\"><img src=\"https://colab.research.google.com/assets/colab-badge.svg\" alt=\"Open In Colab\"/></a>"
      ]
    },
    {
      "cell_type": "markdown",
      "metadata": {
        "id": "sAlZvEHFuHNA"
      },
      "source": [
        "\n",
        " 1)To take input from the user\n",
        "  2)num = int(input(\"Enter a number: \"))\n",
        "3)prime numbers are greater than 1\n",
        "4)check for factors\n",
        "5)if input number is less than\n",
        "6)or equal to 1, it is not prime\n"
      ]
    },
    {
      "cell_type": "code",
      "metadata": {
        "id": "lVeixYbzuDla"
      },
      "source": [
        "num = 407\n",
        "if num > 1:\n",
        "   for i in range(2,num):\n",
        "       if (num % i) == 0:\n",
        "           print(num,\"is not a prime number\")\n",
        "           print(i,\"times\",num//i,\"is\",num)\n",
        "           break\n",
        "   else:\n",
        "       print(num,\"is a prime number\")       \n",
        "else:\n",
        "   print(num,\"is not a prime number\")"
      ],
      "execution_count": null,
      "outputs": []
    }
  ]
}